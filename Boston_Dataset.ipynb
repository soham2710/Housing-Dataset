{
  "nbformat": 4,
  "nbformat_minor": 0,
  "metadata": {
    "colab": {
      "name": "Boston Dataset.ipynb",
      "provenance": [],
      "authorship_tag": "ABX9TyNRoioZWvfZ28kQ0l1/ud6z",
      "include_colab_link": true
    },
    "kernelspec": {
      "name": "python3",
      "display_name": "Python 3"
    },
    "language_info": {
      "name": "python"
    }
  },
  "cells": [
    {
      "cell_type": "markdown",
      "metadata": {
        "id": "view-in-github",
        "colab_type": "text"
      },
      "source": [
        "<a href=\"https://colab.research.google.com/github/soham2710/Housing-Dataset/blob/main/Boston_Dataset.ipynb\" target=\"_parent\"><img src=\"https://colab.research.google.com/assets/colab-badge.svg\" alt=\"Open In Colab\"/></a>"
      ]
    },
    {
      "cell_type": "code",
      "metadata": {
        "colab": {
          "base_uri": "https://localhost:8080/"
        },
        "id": "T3wavQ04kOt1",
        "outputId": "db7dd068-2532-4df5-91d2-ecd96654a82a"
      },
      "source": [
        "!pip install pyforest"
      ],
      "execution_count": 1,
      "outputs": [
        {
          "output_type": "stream",
          "name": "stdout",
          "text": [
            "Collecting pyforest\n",
            "  Downloading pyforest-1.1.0.tar.gz (15 kB)\n",
            "Building wheels for collected packages: pyforest\n",
            "  Building wheel for pyforest (setup.py) ... \u001b[?25l\u001b[?25hdone\n",
            "  Created wheel for pyforest: filename=pyforest-1.1.0-py2.py3-none-any.whl size=14607 sha256=23f915f8d95e23272aa6ff869ebf8c7bd3e088fb9fed2d522966c7825dae1f47\n",
            "  Stored in directory: /root/.cache/pip/wheels/61/1c/da/48e6c884142d485475d852d69d20a096aba5beceb338822893\n",
            "Successfully built pyforest\n",
            "Installing collected packages: pyforest\n",
            "Successfully installed pyforest-1.1.0\n"
          ]
        }
      ]
    },
    {
      "cell_type": "code",
      "metadata": {
        "id": "OtU545fEkTcT"
      },
      "source": [
        "import pyforest"
      ],
      "execution_count": 2,
      "outputs": []
    },
    {
      "cell_type": "code",
      "metadata": {
        "id": "WeD3Xj4IkVtl"
      },
      "source": [
        "from sklearn.datasets import load_boston"
      ],
      "execution_count": 3,
      "outputs": []
    },
    {
      "cell_type": "code",
      "metadata": {
        "id": "B8dOecz6kduE"
      },
      "source": [
        "boston = load_boston()"
      ],
      "execution_count": 6,
      "outputs": []
    },
    {
      "cell_type": "code",
      "metadata": {
        "id": "BVpQb1JPkhZ7"
      },
      "source": [
        "df = boston['data']"
      ],
      "execution_count": 9,
      "outputs": []
    },
    {
      "cell_type": "code",
      "metadata": {
        "colab": {
          "base_uri": "https://localhost:8080/",
          "height": 155
        },
        "id": "uiPMJoMPkjR_",
        "outputId": "f4d026f2-952f-4cb1-e7ac-368c58680fee"
      },
      "source": [
        "bos = pd.DataFrame(boston.data, columns = boston.feature_names)\n",
        "bos['PRICE'] = boston.target\n",
        "\n",
        "print(bos.head())"
      ],
      "execution_count": 11,
      "outputs": [
        {
          "output_type": "display_data",
          "data": {
            "application/javascript": [
              "\n",
              "        if (window._pyforest_update_imports_cell) { window._pyforest_update_imports_cell('from statsmodels.tsa.arima_model import ARIMA\\nimport cv2\\nfrom sklearn.feature_extraction.text import CountVectorizer\\nimport pandas as pd\\nfrom sklearn.model_selection import cross_val_score\\nfrom openpyxl import load_workbook\\nimport bokeh\\nimport lightgbm as lgb\\nimport altair as alt\\nimport sklearn'); }\n",
              "    "
            ],
            "text/plain": [
              "<IPython.core.display.Javascript object>"
            ]
          },
          "metadata": {}
        },
        {
          "output_type": "stream",
          "name": "stdout",
          "text": [
            "      CRIM    ZN  INDUS  CHAS    NOX  ...    TAX  PTRATIO       B  LSTAT  PRICE\n",
            "0  0.00632  18.0   2.31   0.0  0.538  ...  296.0     15.3  396.90   4.98   24.0\n",
            "1  0.02731   0.0   7.07   0.0  0.469  ...  242.0     17.8  396.90   9.14   21.6\n",
            "2  0.02729   0.0   7.07   0.0  0.469  ...  242.0     17.8  392.83   4.03   34.7\n",
            "3  0.03237   0.0   2.18   0.0  0.458  ...  222.0     18.7  394.63   2.94   33.4\n",
            "4  0.06905   0.0   2.18   0.0  0.458  ...  222.0     18.7  396.90   5.33   36.2\n",
            "\n",
            "[5 rows x 14 columns]\n"
          ]
        }
      ]
    },
    {
      "cell_type": "code",
      "metadata": {
        "colab": {
          "base_uri": "https://localhost:8080/",
          "height": 487
        },
        "id": "nVPgjaSHkt5W",
        "outputId": "155da670-94ee-4f69-f4c0-f7188f5e2f19"
      },
      "source": [
        "bos.describe().T"
      ],
      "execution_count": 15,
      "outputs": [
        {
          "output_type": "execute_result",
          "data": {
            "text/html": [
              "<div>\n",
              "<style scoped>\n",
              "    .dataframe tbody tr th:only-of-type {\n",
              "        vertical-align: middle;\n",
              "    }\n",
              "\n",
              "    .dataframe tbody tr th {\n",
              "        vertical-align: top;\n",
              "    }\n",
              "\n",
              "    .dataframe thead th {\n",
              "        text-align: right;\n",
              "    }\n",
              "</style>\n",
              "<table border=\"1\" class=\"dataframe\">\n",
              "  <thead>\n",
              "    <tr style=\"text-align: right;\">\n",
              "      <th></th>\n",
              "      <th>count</th>\n",
              "      <th>mean</th>\n",
              "      <th>std</th>\n",
              "      <th>min</th>\n",
              "      <th>25%</th>\n",
              "      <th>50%</th>\n",
              "      <th>75%</th>\n",
              "      <th>max</th>\n",
              "    </tr>\n",
              "  </thead>\n",
              "  <tbody>\n",
              "    <tr>\n",
              "      <th>CRIM</th>\n",
              "      <td>506.0</td>\n",
              "      <td>3.613524</td>\n",
              "      <td>8.601545</td>\n",
              "      <td>0.00632</td>\n",
              "      <td>0.082045</td>\n",
              "      <td>0.25651</td>\n",
              "      <td>3.677083</td>\n",
              "      <td>88.9762</td>\n",
              "    </tr>\n",
              "    <tr>\n",
              "      <th>ZN</th>\n",
              "      <td>506.0</td>\n",
              "      <td>11.363636</td>\n",
              "      <td>23.322453</td>\n",
              "      <td>0.00000</td>\n",
              "      <td>0.000000</td>\n",
              "      <td>0.00000</td>\n",
              "      <td>12.500000</td>\n",
              "      <td>100.0000</td>\n",
              "    </tr>\n",
              "    <tr>\n",
              "      <th>INDUS</th>\n",
              "      <td>506.0</td>\n",
              "      <td>11.136779</td>\n",
              "      <td>6.860353</td>\n",
              "      <td>0.46000</td>\n",
              "      <td>5.190000</td>\n",
              "      <td>9.69000</td>\n",
              "      <td>18.100000</td>\n",
              "      <td>27.7400</td>\n",
              "    </tr>\n",
              "    <tr>\n",
              "      <th>CHAS</th>\n",
              "      <td>506.0</td>\n",
              "      <td>0.069170</td>\n",
              "      <td>0.253994</td>\n",
              "      <td>0.00000</td>\n",
              "      <td>0.000000</td>\n",
              "      <td>0.00000</td>\n",
              "      <td>0.000000</td>\n",
              "      <td>1.0000</td>\n",
              "    </tr>\n",
              "    <tr>\n",
              "      <th>NOX</th>\n",
              "      <td>506.0</td>\n",
              "      <td>0.554695</td>\n",
              "      <td>0.115878</td>\n",
              "      <td>0.38500</td>\n",
              "      <td>0.449000</td>\n",
              "      <td>0.53800</td>\n",
              "      <td>0.624000</td>\n",
              "      <td>0.8710</td>\n",
              "    </tr>\n",
              "    <tr>\n",
              "      <th>RM</th>\n",
              "      <td>506.0</td>\n",
              "      <td>6.284634</td>\n",
              "      <td>0.702617</td>\n",
              "      <td>3.56100</td>\n",
              "      <td>5.885500</td>\n",
              "      <td>6.20850</td>\n",
              "      <td>6.623500</td>\n",
              "      <td>8.7800</td>\n",
              "    </tr>\n",
              "    <tr>\n",
              "      <th>AGE</th>\n",
              "      <td>506.0</td>\n",
              "      <td>68.574901</td>\n",
              "      <td>28.148861</td>\n",
              "      <td>2.90000</td>\n",
              "      <td>45.025000</td>\n",
              "      <td>77.50000</td>\n",
              "      <td>94.075000</td>\n",
              "      <td>100.0000</td>\n",
              "    </tr>\n",
              "    <tr>\n",
              "      <th>DIS</th>\n",
              "      <td>506.0</td>\n",
              "      <td>3.795043</td>\n",
              "      <td>2.105710</td>\n",
              "      <td>1.12960</td>\n",
              "      <td>2.100175</td>\n",
              "      <td>3.20745</td>\n",
              "      <td>5.188425</td>\n",
              "      <td>12.1265</td>\n",
              "    </tr>\n",
              "    <tr>\n",
              "      <th>RAD</th>\n",
              "      <td>506.0</td>\n",
              "      <td>9.549407</td>\n",
              "      <td>8.707259</td>\n",
              "      <td>1.00000</td>\n",
              "      <td>4.000000</td>\n",
              "      <td>5.00000</td>\n",
              "      <td>24.000000</td>\n",
              "      <td>24.0000</td>\n",
              "    </tr>\n",
              "    <tr>\n",
              "      <th>TAX</th>\n",
              "      <td>506.0</td>\n",
              "      <td>408.237154</td>\n",
              "      <td>168.537116</td>\n",
              "      <td>187.00000</td>\n",
              "      <td>279.000000</td>\n",
              "      <td>330.00000</td>\n",
              "      <td>666.000000</td>\n",
              "      <td>711.0000</td>\n",
              "    </tr>\n",
              "    <tr>\n",
              "      <th>PTRATIO</th>\n",
              "      <td>506.0</td>\n",
              "      <td>18.455534</td>\n",
              "      <td>2.164946</td>\n",
              "      <td>12.60000</td>\n",
              "      <td>17.400000</td>\n",
              "      <td>19.05000</td>\n",
              "      <td>20.200000</td>\n",
              "      <td>22.0000</td>\n",
              "    </tr>\n",
              "    <tr>\n",
              "      <th>B</th>\n",
              "      <td>506.0</td>\n",
              "      <td>356.674032</td>\n",
              "      <td>91.294864</td>\n",
              "      <td>0.32000</td>\n",
              "      <td>375.377500</td>\n",
              "      <td>391.44000</td>\n",
              "      <td>396.225000</td>\n",
              "      <td>396.9000</td>\n",
              "    </tr>\n",
              "    <tr>\n",
              "      <th>LSTAT</th>\n",
              "      <td>506.0</td>\n",
              "      <td>12.653063</td>\n",
              "      <td>7.141062</td>\n",
              "      <td>1.73000</td>\n",
              "      <td>6.950000</td>\n",
              "      <td>11.36000</td>\n",
              "      <td>16.955000</td>\n",
              "      <td>37.9700</td>\n",
              "    </tr>\n",
              "    <tr>\n",
              "      <th>PRICE</th>\n",
              "      <td>506.0</td>\n",
              "      <td>22.532806</td>\n",
              "      <td>9.197104</td>\n",
              "      <td>5.00000</td>\n",
              "      <td>17.025000</td>\n",
              "      <td>21.20000</td>\n",
              "      <td>25.000000</td>\n",
              "      <td>50.0000</td>\n",
              "    </tr>\n",
              "  </tbody>\n",
              "</table>\n",
              "</div>"
            ],
            "text/plain": [
              "         count        mean         std  ...        50%         75%       max\n",
              "CRIM     506.0    3.613524    8.601545  ...    0.25651    3.677083   88.9762\n",
              "ZN       506.0   11.363636   23.322453  ...    0.00000   12.500000  100.0000\n",
              "INDUS    506.0   11.136779    6.860353  ...    9.69000   18.100000   27.7400\n",
              "CHAS     506.0    0.069170    0.253994  ...    0.00000    0.000000    1.0000\n",
              "NOX      506.0    0.554695    0.115878  ...    0.53800    0.624000    0.8710\n",
              "RM       506.0    6.284634    0.702617  ...    6.20850    6.623500    8.7800\n",
              "AGE      506.0   68.574901   28.148861  ...   77.50000   94.075000  100.0000\n",
              "DIS      506.0    3.795043    2.105710  ...    3.20745    5.188425   12.1265\n",
              "RAD      506.0    9.549407    8.707259  ...    5.00000   24.000000   24.0000\n",
              "TAX      506.0  408.237154  168.537116  ...  330.00000  666.000000  711.0000\n",
              "PTRATIO  506.0   18.455534    2.164946  ...   19.05000   20.200000   22.0000\n",
              "B        506.0  356.674032   91.294864  ...  391.44000  396.225000  396.9000\n",
              "LSTAT    506.0   12.653063    7.141062  ...   11.36000   16.955000   37.9700\n",
              "PRICE    506.0   22.532806    9.197104  ...   21.20000   25.000000   50.0000\n",
              "\n",
              "[14 rows x 8 columns]"
            ]
          },
          "metadata": {},
          "execution_count": 15
        }
      ]
    },
    {
      "cell_type": "code",
      "metadata": {
        "colab": {
          "base_uri": "https://localhost:8080/"
        },
        "id": "GbNAaj2tl-Dy",
        "outputId": "ce78b442-a2d3-42f5-d81f-a09de844074c"
      },
      "source": [
        "bos.corrwith(bos.RM)"
      ],
      "execution_count": 18,
      "outputs": [
        {
          "output_type": "execute_result",
          "data": {
            "text/plain": [
              "CRIM      -0.219247\n",
              "ZN         0.311991\n",
              "INDUS     -0.391676\n",
              "CHAS       0.091251\n",
              "NOX       -0.302188\n",
              "RM         1.000000\n",
              "AGE       -0.240265\n",
              "DIS        0.205246\n",
              "RAD       -0.209847\n",
              "TAX       -0.292048\n",
              "PTRATIO   -0.355501\n",
              "B          0.128069\n",
              "LSTAT     -0.613808\n",
              "PRICE      0.695360\n",
              "dtype: float64"
            ]
          },
          "metadata": {},
          "execution_count": 18
        }
      ]
    },
    {
      "cell_type": "code",
      "metadata": {
        "colab": {
          "base_uri": "https://localhost:8080/",
          "height": 17
        },
        "id": "V6-KtSVqmoKW",
        "outputId": "551e119c-26ba-4c79-fc78-c076502ce2fb"
      },
      "source": [
        "X = bos.RM\n",
        "Y = bos.PRICE\n",
        "x = np.array(X).reshape(-1,1)\n",
        "y = np.array(Y).reshape(-1,1)"
      ],
      "execution_count": 21,
      "outputs": [
        {
          "output_type": "display_data",
          "data": {
            "application/javascript": [
              "\n",
              "        if (window._pyforest_update_imports_cell) { window._pyforest_update_imports_cell('import cv2\\nimport bokeh\\nimport altair as alt\\nfrom statsmodels.tsa.arima_model import ARIMA\\nfrom sklearn.ensemble import RandomForestRegressor\\nimport pandas as pd\\nfrom sklearn.ensemble import RandomForestClassifier\\nfrom sklearn.preprocessing import RobustScaler\\nfrom sklearn.linear_model import Ridge\\nimport numpy as np\\nfrom sklearn.model_selection import RandomizedSearchCV\\nfrom sklearn.feature_extraction.text import CountVectorizer\\nfrom sklearn.model_selection import cross_val_score\\nfrom openpyxl import load_workbook\\nimport fbprophet\\nimport lightgbm as lgb\\nimport xgboost as xgb\\nimport fastai\\nimport sklearn\\nfrom sklearn.linear_model import RidgeCV'); }\n",
              "    "
            ],
            "text/plain": [
              "<IPython.core.display.Javascript object>"
            ]
          },
          "metadata": {}
        },
        {
          "output_type": "display_data",
          "data": {
            "application/javascript": [
              "\n",
              "        if (window._pyforest_update_imports_cell) { window._pyforest_update_imports_cell('import cv2\\nimport bokeh\\nimport altair as alt\\nfrom statsmodels.tsa.arima_model import ARIMA\\nfrom sklearn.ensemble import RandomForestRegressor\\nimport pandas as pd\\nfrom sklearn.ensemble import RandomForestClassifier\\nfrom sklearn.preprocessing import RobustScaler\\nfrom sklearn.linear_model import Ridge\\nimport numpy as np\\nfrom sklearn.model_selection import RandomizedSearchCV\\nfrom sklearn.feature_extraction.text import CountVectorizer\\nfrom sklearn.model_selection import cross_val_score\\nfrom openpyxl import load_workbook\\nimport fbprophet\\nimport lightgbm as lgb\\nimport xgboost as xgb\\nimport fastai\\nimport sklearn\\nfrom sklearn.linear_model import RidgeCV'); }\n",
              "    "
            ],
            "text/plain": [
              "<IPython.core.display.Javascript object>"
            ]
          },
          "metadata": {}
        }
      ]
    },
    {
      "cell_type": "code",
      "metadata": {
        "colab": {
          "base_uri": "https://localhost:8080/"
        },
        "id": "vQmBeLjom20D",
        "outputId": "6fddb4cf-0d2d-48c4-a0c6-7ffc815042e1"
      },
      "source": [
        "x.shape"
      ],
      "execution_count": 22,
      "outputs": [
        {
          "output_type": "execute_result",
          "data": {
            "text/plain": [
              "(506, 1)"
            ]
          },
          "metadata": {},
          "execution_count": 22
        }
      ]
    },
    {
      "cell_type": "code",
      "metadata": {
        "colab": {
          "base_uri": "https://localhost:8080/"
        },
        "id": "S7Ld0r8Xm4ci",
        "outputId": "2f354d71-08e0-4011-f31f-80bbbf2bc8f7"
      },
      "source": [
        "y.shape"
      ],
      "execution_count": 23,
      "outputs": [
        {
          "output_type": "execute_result",
          "data": {
            "text/plain": [
              "(506, 1)"
            ]
          },
          "metadata": {},
          "execution_count": 23
        }
      ]
    },
    {
      "cell_type": "code",
      "metadata": {
        "id": "VcbWN6KunV61"
      },
      "source": [
        "from sklearn.model_selection import train_test_split"
      ],
      "execution_count": 26,
      "outputs": []
    },
    {
      "cell_type": "code",
      "metadata": {
        "id": "rqboEDB6nRq1"
      },
      "source": [
        "xtrain,xtest,ytrain,ytest = train_test_split(x,y,test_size = 0.3, random_state = 42)"
      ],
      "execution_count": 62,
      "outputs": []
    },
    {
      "cell_type": "code",
      "metadata": {
        "id": "ViicVYRBnIkV"
      },
      "source": [
        "from sklearn.linear_model import LinearRegression"
      ],
      "execution_count": 63,
      "outputs": []
    },
    {
      "cell_type": "code",
      "metadata": {
        "id": "N1DqpLKRnO-k"
      },
      "source": [
        "model = LinearRegression()"
      ],
      "execution_count": 64,
      "outputs": []
    },
    {
      "cell_type": "code",
      "metadata": {
        "colab": {
          "base_uri": "https://localhost:8080/"
        },
        "id": "qmjapBR1ntvE",
        "outputId": "9100f2c5-fce8-44ab-bb08-04e3f5566e8c"
      },
      "source": [
        "model.fit(xtrain,ytrain)"
      ],
      "execution_count": 65,
      "outputs": [
        {
          "output_type": "execute_result",
          "data": {
            "text/plain": [
              "LinearRegression(copy_X=True, fit_intercept=True, n_jobs=None, normalize=False)"
            ]
          },
          "metadata": {},
          "execution_count": 65
        }
      ]
    },
    {
      "cell_type": "code",
      "metadata": {
        "id": "0DWKMRNmnxA1"
      },
      "source": [
        "from sklearn import metrics "
      ],
      "execution_count": 66,
      "outputs": []
    },
    {
      "cell_type": "code",
      "metadata": {
        "id": "B2Yq_XSxoPye"
      },
      "source": [
        "pred = model.predict(xtest)"
      ],
      "execution_count": 67,
      "outputs": []
    },
    {
      "cell_type": "code",
      "metadata": {
        "colab": {
          "base_uri": "https://localhost:8080/"
        },
        "id": "ERDq0GbwoaYZ",
        "outputId": "3ad961c0-4cfe-423b-9174-2350aa19497f"
      },
      "source": [
        "pred"
      ],
      "execution_count": 68,
      "outputs": [
        {
          "output_type": "execute_result",
          "data": {
            "text/plain": [
              "array([[23.83943626],\n",
              "       [26.95782721],\n",
              "       [19.89129801],\n",
              "       [20.63898239],\n",
              "       [22.7543821 ],\n",
              "       [22.59025626],\n",
              "       [19.26214896],\n",
              "       [21.63285553],\n",
              "       [22.13435115],\n",
              "       [20.2924945 ],\n",
              "       [19.59951874],\n",
              "       [20.08277815],\n",
              "       [ 6.54239639],\n",
              "       [22.16170546],\n",
              "       [17.3838199 ],\n",
              "       [28.9820459 ],\n",
              "       [18.94301538],\n",
              "       [ 9.83403128],\n",
              "       [37.14274737],\n",
              "       [21.73315465],\n",
              "       [22.23465027],\n",
              "       [24.441231  ],\n",
              "       [17.42941041],\n",
              "       [25.45334035],\n",
              "       [20.10101436],\n",
              "       [14.82163319],\n",
              "       [18.89742487],\n",
              "       [26.68428415],\n",
              "       [19.68158166],\n",
              "       [18.16797669],\n",
              "       [16.143758  ],\n",
              "       [23.93061728],\n",
              "       [32.01837393],\n",
              "       [14.22895654],\n",
              "       [20.07366005],\n",
              "       [17.39293801],\n",
              "       [30.85125685],\n",
              "       [18.85183436],\n",
              "       [20.62986429],\n",
              "       [22.28024078],\n",
              "       [14.48426341],\n",
              "       [27.78757451],\n",
              "       [38.59252561],\n",
              "       [16.34435625],\n",
              "       [23.84855436],\n",
              "       [17.42941041],\n",
              "       [17.31999319],\n",
              "       [23.84855436],\n",
              "       [21.56902881],\n",
              "       [25.28921451],\n",
              "       [20.12836867],\n",
              "       [28.87262867],\n",
              "       [21.34107626],\n",
              "       [27.16754356],\n",
              "       [33.44991598],\n",
              "       [22.89115363],\n",
              "       [22.04317013],\n",
              "       [27.89699174],\n",
              "       [23.5932475 ],\n",
              "       [16.44465538],\n",
              "       [26.99429962],\n",
              "       [31.43481539],\n",
              "       [25.07949816],\n",
              "       [15.08605815],\n",
              "       [25.32568692],\n",
              "       [14.0648307 ],\n",
              "       [24.34093188],\n",
              "       [22.79997261],\n",
              "       [25.47157655],\n",
              "       [19.82747129],\n",
              "       [18.09503188],\n",
              "       [26.88488239],\n",
              "       [18.71506282],\n",
              "       [19.4627472 ],\n",
              "       [21.32284005],\n",
              "       [15.05870384],\n",
              "       [21.56902881],\n",
              "       [36.94214912],\n",
              "       [25.01567144],\n",
              "       [14.70309786],\n",
              "       [18.99772399],\n",
              "       [16.5540726 ],\n",
              "       [18.91566107],\n",
              "       [11.25645523],\n",
              "       [20.2560221 ],\n",
              "       [26.66604794],\n",
              "       [26.43809539],\n",
              "       [23.83031816],\n",
              "       [21.97022531],\n",
              "       [24.18592414],\n",
              "       [20.22866779],\n",
              "       [13.70010662],\n",
              "       [23.01880706],\n",
              "       [19.11625932],\n",
              "       [-2.19274551],\n",
              "       [23.43823976],\n",
              "       [22.01581582],\n",
              "       [ 7.53626953],\n",
              "       [24.24975086],\n",
              "       [26.03689889],\n",
              "       [20.18307728],\n",
              "       [22.65408297],\n",
              "       [13.70010662],\n",
              "       [18.53270078],\n",
              "       [20.32896691],\n",
              "       [20.98547027],\n",
              "       [17.55706385],\n",
              "       [23.97620779],\n",
              "       [20.38367553],\n",
              "       [23.53853889],\n",
              "       [21.43225728],\n",
              "       [27.81492882],\n",
              "       [22.87291743],\n",
              "       [21.35931246],\n",
              "       [30.6506586 ],\n",
              "       [21.942871  ],\n",
              "       [36.13975612],\n",
              "       [16.38994676],\n",
              "       [17.3747018 ],\n",
              "       [24.4321129 ],\n",
              "       [16.33523815],\n",
              "       [24.48682152],\n",
              "       [19.65422735],\n",
              "       [20.23778589],\n",
              "       [21.58726502],\n",
              "       [20.42014794],\n",
              "       [24.75124648],\n",
              "       [30.57771378],\n",
              "       [21.43225728],\n",
              "       [36.64125174],\n",
              "       [16.5176002 ],\n",
              "       [23.08263378],\n",
              "       [20.7028091 ],\n",
              "       [20.88517115],\n",
              "       [12.62417056],\n",
              "       [23.92149918],\n",
              "       [20.58427378],\n",
              "       [27.48667714],\n",
              "       [25.55363947],\n",
              "       [19.35332998],\n",
              "       [19.95512472],\n",
              "       [23.192051  ],\n",
              "       [18.10414998],\n",
              "       [14.61191684],\n",
              "       [15.76991581],\n",
              "       [22.31671319],\n",
              "       [21.22254093],\n",
              "       [23.74825524],\n",
              "       [18.34122063],\n",
              "       [44.89313423],\n",
              "       [24.0217983 ],\n",
              "       [22.3349494 ]])"
            ]
          },
          "metadata": {},
          "execution_count": 68
        }
      ]
    },
    {
      "cell_type": "code",
      "metadata": {
        "colab": {
          "base_uri": "https://localhost:8080/"
        },
        "id": "Y007aGTLohgz",
        "outputId": "258c57af-fc78-45dc-ced3-d491ac00ef39"
      },
      "source": [
        "metrics.mean_absolute_error(ytest,pred)"
      ],
      "execution_count": 69,
      "outputs": [
        {
          "output_type": "execute_result",
          "data": {
            "text/plain": [
              "4.314224104076755"
            ]
          },
          "metadata": {},
          "execution_count": 69
        }
      ]
    },
    {
      "cell_type": "code",
      "metadata": {
        "colab": {
          "base_uri": "https://localhost:8080/",
          "height": 371
        },
        "id": "SOVTvc13osYT",
        "outputId": "5d034893-d84b-49da-af67-350652305eeb"
      },
      "source": [
        "sns.distplot((ytest-pred))"
      ],
      "execution_count": 70,
      "outputs": [
        {
          "output_type": "display_data",
          "data": {
            "application/javascript": [
              "\n",
              "        if (window._pyforest_update_imports_cell) { window._pyforest_update_imports_cell('import cv2\\nimport pickle\\nimport bokeh\\nimport altair as alt\\nfrom sklearn.linear_model import Lasso\\nimport plotly.express as px\\nfrom statsmodels.tsa.arima_model import ARIMA\\nfrom sklearn.preprocessing import LabelEncoder\\nfrom sklearn.ensemble import RandomForestRegressor\\nimport pandas as pd\\nimport seaborn as sns\\nfrom sklearn.ensemble import RandomForestClassifier\\nimport plotly as py\\nfrom scipy import signal as sg\\nimport matplotlib as mpl\\nfrom sklearn.preprocessing import RobustScaler\\nfrom sklearn.model_selection import train_test_split\\nfrom sklearn.linear_model import Ridge\\nimport numpy as np\\nfrom sklearn.linear_model import LassoCV\\nfrom sklearn.model_selection import RandomizedSearchCV\\nimport spacy\\nimport re\\nimport statistics\\nimport pydot\\nimport matplotlib.pyplot as plt\\nfrom sklearn.model_selection import cross_val_score\\nfrom sklearn import svm\\nfrom sklearn.feature_extraction.text import CountVectorizer\\nimport tensorflow as tf\\nfrom openpyxl import load_workbook\\nimport textblob\\nimport fbprophet\\nfrom sklearn.linear_model import LogisticRegression\\nimport xgboost as xgb\\nimport lightgbm as lgb\\nimport fastai\\nimport sklearn\\nimport torch\\nfrom sklearn.linear_model import RidgeCV\\nimport skimage\\nfrom sklearn import metrics\\nfrom sklearn.linear_model import LinearRegression\\nimport statsmodels.api as sm\\nimport tqdm\\nfrom scipy import stats\\nimport sys'); }\n",
              "    "
            ],
            "text/plain": [
              "<IPython.core.display.Javascript object>"
            ]
          },
          "metadata": {}
        },
        {
          "output_type": "stream",
          "name": "stderr",
          "text": [
            "/usr/local/lib/python3.7/dist-packages/seaborn/distributions.py:2557: FutureWarning:\n",
            "\n",
            "`distplot` is a deprecated function and will be removed in a future version. Please adapt your code to use either `displot` (a figure-level function with similar flexibility) or `histplot` (an axes-level function for histograms).\n",
            "\n"
          ]
        },
        {
          "output_type": "execute_result",
          "data": {
            "text/plain": [
              "<matplotlib.axes._subplots.AxesSubplot at 0x7f34bf4727d0>"
            ]
          },
          "metadata": {},
          "execution_count": 70
        },
        {
          "output_type": "display_data",
          "data": {
            "image/png": "[encoded data removed]",
            "text/plain": [
              "<Figure size 432x288 with 1 Axes>"
            ]
          },
          "metadata": {
            "needs_background": "light"
          }
        }
      ]
    },
    {
      "cell_type": "code",
      "metadata": {
        "colab": {
          "base_uri": "https://localhost:8080/",
          "height": 282
        },
        "id": "lNxz6O5npLI9",
        "outputId": "61ff2935-870e-4584-aed7-ab39fb1e169f"
      },
      "source": [
        "plt.scatter(ytest,pred)"
      ],
      "execution_count": 71,
      "outputs": [
        {
          "output_type": "display_data",
          "data": {
            "application/javascript": [
              "\n",
              "        if (window._pyforest_update_imports_cell) { window._pyforest_update_imports_cell('import cv2\\nimport pickle\\nimport bokeh\\nimport altair as alt\\nfrom sklearn.linear_model import Lasso\\nimport plotly.express as px\\nfrom statsmodels.tsa.arima_model import ARIMA\\nfrom sklearn.preprocessing import LabelEncoder\\nfrom sklearn.ensemble import RandomForestRegressor\\nimport pandas as pd\\nimport seaborn as sns\\nfrom sklearn.ensemble import RandomForestClassifier\\nimport plotly as py\\nfrom scipy import signal as sg\\nimport matplotlib as mpl\\nfrom sklearn.preprocessing import RobustScaler\\nfrom sklearn.model_selection import train_test_split\\nfrom sklearn.linear_model import Ridge\\nimport numpy as np\\nfrom sklearn.linear_model import LassoCV\\nfrom sklearn.model_selection import RandomizedSearchCV\\nimport spacy\\nimport re\\nimport statistics\\nimport pydot\\nimport matplotlib.pyplot as plt\\nfrom sklearn.model_selection import cross_val_score\\nfrom sklearn import svm\\nfrom sklearn.feature_extraction.text import CountVectorizer\\nimport tensorflow as tf\\nfrom openpyxl import load_workbook\\nimport textblob\\nimport fbprophet\\nfrom sklearn.linear_model import LogisticRegression\\nimport xgboost as xgb\\nimport lightgbm as lgb\\nimport fastai\\nimport sklearn\\nimport torch\\nfrom sklearn.linear_model import RidgeCV\\nimport skimage\\nfrom sklearn import metrics\\nfrom sklearn.linear_model import LinearRegression\\nimport statsmodels.api as sm\\nimport tqdm\\nfrom scipy import stats\\nimport sys'); }\n",
              "    "
            ],
            "text/plain": [
              "<IPython.core.display.Javascript object>"
            ]
          },
          "metadata": {}
        },
        {
          "output_type": "execute_result",
          "data": {
            "text/plain": [
              "<matplotlib.collections.PathCollection at 0x7f34bf320050>"
            ]
          },
          "metadata": {},
          "execution_count": 71
        },
        {
          "output_type": "display_data",
          "data": {
            "image/png": "[encoded data removed]",
            "text/plain": [
              "<Figure size 432x288 with 1 Axes>"
            ]
          },
          "metadata": {
            "needs_background": "light"
          }
        }
      ]
    },
    {
      "cell_type": "code",
      "metadata": {
        "colab": {
          "base_uri": "https://localhost:8080/",
          "height": 34
        },
        "id": "CphtSLJzpQGb",
        "outputId": "7a694cb3-448c-4a22-ea6c-ae6be34bdaec"
      },
      "source": [
        "np.sqrt(metrics.mean_squared_error(ytest,pred))"
      ],
      "execution_count": 72,
      "outputs": [
        {
          "output_type": "display_data",
          "data": {
            "application/javascript": [
              "\n",
              "        if (window._pyforest_update_imports_cell) { window._pyforest_update_imports_cell('import cv2\\nimport pickle\\nimport bokeh\\nimport altair as alt\\nfrom sklearn.linear_model import Lasso\\nimport plotly.express as px\\nfrom statsmodels.tsa.arima_model import ARIMA\\nfrom sklearn.preprocessing import LabelEncoder\\nfrom sklearn.ensemble import RandomForestRegressor\\nimport pandas as pd\\nimport seaborn as sns\\nfrom sklearn.ensemble import RandomForestClassifier\\nimport plotly as py\\nfrom scipy import signal as sg\\nimport matplotlib as mpl\\nfrom sklearn.preprocessing import RobustScaler\\nfrom sklearn.model_selection import train_test_split\\nfrom sklearn.linear_model import Ridge\\nimport numpy as np\\nfrom sklearn.linear_model import LassoCV\\nfrom sklearn.model_selection import RandomizedSearchCV\\nimport spacy\\nimport re\\nimport statistics\\nimport pydot\\nimport matplotlib.pyplot as plt\\nfrom sklearn.model_selection import cross_val_score\\nfrom sklearn import svm\\nfrom sklearn.feature_extraction.text import CountVectorizer\\nimport tensorflow as tf\\nfrom openpyxl import load_workbook\\nimport textblob\\nimport fbprophet\\nfrom sklearn.linear_model import LogisticRegression\\nimport xgboost as xgb\\nimport lightgbm as lgb\\nimport fastai\\nimport sklearn\\nimport torch\\nfrom sklearn.linear_model import RidgeCV\\nimport skimage\\nfrom sklearn import metrics\\nfrom sklearn.linear_model import LinearRegression\\nimport statsmodels.api as sm\\nimport tqdm\\nfrom scipy import stats\\nimport sys'); }\n",
              "    "
            ],
            "text/plain": [
              "<IPython.core.display.Javascript object>"
            ]
          },
          "metadata": {}
        },
        {
          "output_type": "execute_result",
          "data": {
            "text/plain": [
              "6.352279094771659"
            ]
          },
          "metadata": {},
          "execution_count": 72
        }
      ]
    },
    {
      "cell_type": "code",
      "metadata": {
        "colab": {
          "base_uri": "https://localhost:8080/"
        },
        "id": "3jRcmcJkp0Vl",
        "outputId": "ca72b5df-b179-491a-e709-92398768ff85"
      },
      "source": [
        "r2 = round(model.score(xtest,ytest),2)\n",
        "r2"
      ],
      "execution_count": 74,
      "outputs": [
        {
          "output_type": "execute_result",
          "data": {
            "text/plain": [
              "0.46"
            ]
          },
          "metadata": {},
          "execution_count": 74
        }
      ]
    },
    {
      "cell_type": "code",
      "metadata": {
        "colab": {
          "base_uri": "https://localhost:8080/"
        },
        "id": "JpDjqqu1rfHh",
        "outputId": "cdf7c992-ecb4-4fd2-e814-775f343778a5"
      },
      "source": [
        "r2 = round(model.score(xtrain,ytrain),2)\n",
        "r2"
      ],
      "execution_count": 76,
      "outputs": [
        {
          "output_type": "execute_result",
          "data": {
            "text/plain": [
              "0.49"
            ]
          },
          "metadata": {},
          "execution_count": 76
        }
      ]
    },
    {
      "cell_type": "code",
      "metadata": {
        "colab": {
          "base_uri": "https://localhost:8080/",
          "height": 279
        },
        "id": "JWtckAVOrrZv",
        "outputId": "d7eac113-c25f-4c4e-cd66-290c4cc97d6a"
      },
      "source": [
        "prediction_space = np.linspace(min(x), max(x)).reshape(-1,1) \n",
        "plt.scatter(x,y)\n",
        "plt.plot(prediction_space, model.predict(prediction_space), color = 'black', linewidth = 3)\n",
        "plt.ylabel('value of house/1000($)')\n",
        "plt.xlabel('number of rooms')\n",
        "plt.show()"
      ],
      "execution_count": 77,
      "outputs": [
        {
          "output_type": "display_data",
          "data": {
            "application/javascript": [
              "\n",
              "        if (window._pyforest_update_imports_cell) { window._pyforest_update_imports_cell('import cv2\\nimport pickle\\nimport bokeh\\nimport altair as alt\\nfrom sklearn.linear_model import Lasso\\nimport plotly.express as px\\nfrom statsmodels.tsa.arima_model import ARIMA\\nfrom sklearn.preprocessing import LabelEncoder\\nfrom sklearn.ensemble import RandomForestRegressor\\nimport pandas as pd\\nimport seaborn as sns\\nfrom sklearn.ensemble import RandomForestClassifier\\nimport plotly as py\\nfrom scipy import signal as sg\\nimport matplotlib as mpl\\nfrom sklearn.preprocessing import RobustScaler\\nfrom sklearn.model_selection import train_test_split\\nfrom sklearn.linear_model import Ridge\\nimport numpy as np\\nfrom sklearn.linear_model import LassoCV\\nfrom sklearn.model_selection import RandomizedSearchCV\\nimport spacy\\nimport re\\nimport statistics\\nimport pydot\\nimport matplotlib.pyplot as plt\\nfrom sklearn.model_selection import cross_val_score\\nfrom sklearn import svm\\nfrom sklearn.feature_extraction.text import CountVectorizer\\nimport tensorflow as tf\\nfrom openpyxl import load_workbook\\nimport textblob\\nimport fbprophet\\nfrom sklearn.linear_model import LogisticRegression\\nimport xgboost as xgb\\nimport lightgbm as lgb\\nimport fastai\\nimport sklearn\\nimport torch\\nfrom sklearn.linear_model import RidgeCV\\nimport skimage\\nfrom sklearn import metrics\\nfrom sklearn.linear_model import LinearRegression\\nimport statsmodels.api as sm\\nimport tqdm\\nfrom scipy import stats\\nimport sys'); }\n",
              "    "
            ],
            "text/plain": [
              "<IPython.core.display.Javascript object>"
            ]
          },
          "metadata": {}
        },
        {
          "output_type": "display_data",
          "data": {
            "application/javascript": [
              "\n",
              "        if (window._pyforest_update_imports_cell) { window._pyforest_update_imports_cell('import cv2\\nimport pickle\\nimport bokeh\\nimport altair as alt\\nfrom sklearn.linear_model import Lasso\\nimport plotly.express as px\\nfrom statsmodels.tsa.arima_model import ARIMA\\nfrom sklearn.preprocessing import LabelEncoder\\nfrom sklearn.ensemble import RandomForestRegressor\\nimport pandas as pd\\nimport seaborn as sns\\nfrom sklearn.ensemble import RandomForestClassifier\\nimport plotly as py\\nfrom scipy import signal as sg\\nimport matplotlib as mpl\\nfrom sklearn.preprocessing import RobustScaler\\nfrom sklearn.model_selection import train_test_split\\nfrom sklearn.linear_model import Ridge\\nimport numpy as np\\nfrom sklearn.linear_model import LassoCV\\nfrom sklearn.model_selection import RandomizedSearchCV\\nimport spacy\\nimport re\\nimport statistics\\nimport pydot\\nimport matplotlib.pyplot as plt\\nfrom sklearn.model_selection import cross_val_score\\nfrom sklearn import svm\\nfrom sklearn.feature_extraction.text import CountVectorizer\\nimport tensorflow as tf\\nfrom openpyxl import load_workbook\\nimport textblob\\nimport fbprophet\\nfrom sklearn.linear_model import LogisticRegression\\nimport xgboost as xgb\\nimport lightgbm as lgb\\nimport fastai\\nimport sklearn\\nimport torch\\nfrom sklearn.linear_model import RidgeCV\\nimport skimage\\nfrom sklearn import metrics\\nfrom sklearn.linear_model import LinearRegression\\nimport statsmodels.api as sm\\nimport tqdm\\nfrom scipy import stats\\nimport sys'); }\n",
              "    "
            ],
            "text/plain": [
              "<IPython.core.display.Javascript object>"
            ]
          },
          "metadata": {}
        },
        {
          "output_type": "display_data",
          "data": {
            "application/javascript": [
              "\n",
              "        if (window._pyforest_update_imports_cell) { window._pyforest_update_imports_cell('import cv2\\nimport pickle\\nimport bokeh\\nimport altair as alt\\nfrom sklearn.linear_model import Lasso\\nimport plotly.express as px\\nfrom statsmodels.tsa.arima_model import ARIMA\\nfrom sklearn.preprocessing import LabelEncoder\\nfrom sklearn.ensemble import RandomForestRegressor\\nimport pandas as pd\\nimport seaborn as sns\\nfrom sklearn.ensemble import RandomForestClassifier\\nimport plotly as py\\nfrom scipy import signal as sg\\nimport matplotlib as mpl\\nfrom sklearn.preprocessing import RobustScaler\\nfrom sklearn.model_selection import train_test_split\\nfrom sklearn.linear_model import Ridge\\nimport numpy as np\\nfrom sklearn.linear_model import LassoCV\\nfrom sklearn.model_selection import RandomizedSearchCV\\nimport spacy\\nimport re\\nimport statistics\\nimport pydot\\nimport matplotlib.pyplot as plt\\nfrom sklearn.model_selection import cross_val_score\\nfrom sklearn import svm\\nfrom sklearn.feature_extraction.text import CountVectorizer\\nimport tensorflow as tf\\nfrom openpyxl import load_workbook\\nimport textblob\\nimport fbprophet\\nfrom sklearn.linear_model import LogisticRegression\\nimport xgboost as xgb\\nimport lightgbm as lgb\\nimport fastai\\nimport sklearn\\nimport torch\\nfrom sklearn.linear_model import RidgeCV\\nimport skimage\\nfrom sklearn import metrics\\nfrom sklearn.linear_model import LinearRegression\\nimport statsmodels.api as sm\\nimport tqdm\\nfrom scipy import stats\\nimport sys'); }\n",
              "    "
            ],
            "text/plain": [
              "<IPython.core.display.Javascript object>"
            ]
          },
          "metadata": {}
        },
        {
          "output_type": "display_data",
          "data": {
            "application/javascript": [
              "\n",
              "        if (window._pyforest_update_imports_cell) { window._pyforest_update_imports_cell('import cv2\\nimport pickle\\nimport bokeh\\nimport altair as alt\\nfrom sklearn.linear_model import Lasso\\nimport plotly.express as px\\nfrom statsmodels.tsa.arima_model import ARIMA\\nfrom sklearn.preprocessing import LabelEncoder\\nfrom sklearn.ensemble import RandomForestRegressor\\nimport pandas as pd\\nimport seaborn as sns\\nfrom sklearn.ensemble import RandomForestClassifier\\nimport plotly as py\\nfrom scipy import signal as sg\\nimport matplotlib as mpl\\nfrom sklearn.preprocessing import RobustScaler\\nfrom sklearn.model_selection import train_test_split\\nfrom sklearn.linear_model import Ridge\\nimport numpy as np\\nfrom sklearn.linear_model import LassoCV\\nfrom sklearn.model_selection import RandomizedSearchCV\\nimport spacy\\nimport re\\nimport statistics\\nimport pydot\\nimport matplotlib.pyplot as plt\\nfrom sklearn.model_selection import cross_val_score\\nfrom sklearn import svm\\nfrom sklearn.feature_extraction.text import CountVectorizer\\nimport tensorflow as tf\\nfrom openpyxl import load_workbook\\nimport textblob\\nimport fbprophet\\nfrom sklearn.linear_model import LogisticRegression\\nimport xgboost as xgb\\nimport lightgbm as lgb\\nimport fastai\\nimport sklearn\\nimport torch\\nfrom sklearn.linear_model import RidgeCV\\nimport skimage\\nfrom sklearn import metrics\\nfrom sklearn.linear_model import LinearRegression\\nimport statsmodels.api as sm\\nimport tqdm\\nfrom scipy import stats\\nimport sys'); }\n",
              "    "
            ],
            "text/plain": [
              "<IPython.core.display.Javascript object>"
            ]
          },
          "metadata": {}
        },
        {
          "output_type": "display_data",
          "data": {
            "application/javascript": [
              "\n",
              "        if (window._pyforest_update_imports_cell) { window._pyforest_update_imports_cell('import cv2\\nimport pickle\\nimport bokeh\\nimport altair as alt\\nfrom sklearn.linear_model import Lasso\\nimport plotly.express as px\\nfrom statsmodels.tsa.arima_model import ARIMA\\nfrom sklearn.preprocessing import LabelEncoder\\nfrom sklearn.ensemble import RandomForestRegressor\\nimport pandas as pd\\nimport seaborn as sns\\nfrom sklearn.ensemble import RandomForestClassifier\\nimport plotly as py\\nfrom scipy import signal as sg\\nimport matplotlib as mpl\\nfrom sklearn.preprocessing import RobustScaler\\nfrom sklearn.model_selection import train_test_split\\nfrom sklearn.linear_model import Ridge\\nimport numpy as np\\nfrom sklearn.linear_model import LassoCV\\nfrom sklearn.model_selection import RandomizedSearchCV\\nimport spacy\\nimport re\\nimport statistics\\nimport pydot\\nimport matplotlib.pyplot as plt\\nfrom sklearn.model_selection import cross_val_score\\nfrom sklearn import svm\\nfrom sklearn.feature_extraction.text import CountVectorizer\\nimport tensorflow as tf\\nfrom openpyxl import load_workbook\\nimport textblob\\nimport fbprophet\\nfrom sklearn.linear_model import LogisticRegression\\nimport xgboost as xgb\\nimport lightgbm as lgb\\nimport fastai\\nimport sklearn\\nimport torch\\nfrom sklearn.linear_model import RidgeCV\\nimport skimage\\nfrom sklearn import metrics\\nfrom sklearn.linear_model import LinearRegression\\nimport statsmodels.api as sm\\nimport tqdm\\nfrom scipy import stats\\nimport sys'); }\n",
              "    "
            ],
            "text/plain": [
              "<IPython.core.display.Javascript object>"
            ]
          },
          "metadata": {}
        },
        {
          "output_type": "display_data",
          "data": {
            "application/javascript": [
              "\n",
              "        if (window._pyforest_update_imports_cell) { window._pyforest_update_imports_cell('import cv2\\nimport pickle\\nimport bokeh\\nimport altair as alt\\nfrom sklearn.linear_model import Lasso\\nimport plotly.express as px\\nfrom statsmodels.tsa.arima_model import ARIMA\\nfrom sklearn.preprocessing import LabelEncoder\\nfrom sklearn.ensemble import RandomForestRegressor\\nimport pandas as pd\\nimport seaborn as sns\\nfrom sklearn.ensemble import RandomForestClassifier\\nimport plotly as py\\nfrom scipy import signal as sg\\nimport matplotlib as mpl\\nfrom sklearn.preprocessing import RobustScaler\\nfrom sklearn.model_selection import train_test_split\\nfrom sklearn.linear_model import Ridge\\nimport numpy as np\\nfrom sklearn.linear_model import LassoCV\\nfrom sklearn.model_selection import RandomizedSearchCV\\nimport spacy\\nimport re\\nimport statistics\\nimport pydot\\nimport matplotlib.pyplot as plt\\nfrom sklearn.model_selection import cross_val_score\\nfrom sklearn import svm\\nfrom sklearn.feature_extraction.text import CountVectorizer\\nimport tensorflow as tf\\nfrom openpyxl import load_workbook\\nimport textblob\\nimport fbprophet\\nfrom sklearn.linear_model import LogisticRegression\\nimport xgboost as xgb\\nimport lightgbm as lgb\\nimport fastai\\nimport sklearn\\nimport torch\\nfrom sklearn.linear_model import RidgeCV\\nimport skimage\\nfrom sklearn import metrics\\nfrom sklearn.linear_model import LinearRegression\\nimport statsmodels.api as sm\\nimport tqdm\\nfrom scipy import stats\\nimport sys'); }\n",
              "    "
            ],
            "text/plain": [
              "<IPython.core.display.Javascript object>"
            ]
          },
          "metadata": {}
        },
        {
          "output_type": "display_data",
          "data": {
            "image/png": "[encoded data removed]",
            "text/plain": [
              "<Figure size 432x288 with 1 Axes>"
            ]
          },
          "metadata": {
            "needs_background": "light"
          }
        }
      ]
    },
    {
      "cell_type": "code",
      "metadata": {
        "colab": {
          "base_uri": "https://localhost:8080/"
        },
        "id": "KGA0mWoFr5u1",
        "outputId": "849ca9f2-d459-4c6a-8c92-8ebd86c8e3e5"
      },
      "source": [
        "model.score(x,y)"
      ],
      "execution_count": 78,
      "outputs": [
        {
          "output_type": "execute_result",
          "data": {
            "text/plain": [
              "0.4833836775640979"
            ]
          },
          "metadata": {},
          "execution_count": 78
        }
      ]
    },
    {
      "cell_type": "code",
      "metadata": {
        "colab": {
          "base_uri": "https://localhost:8080/"
        },
        "id": "OozZgpS2sZjt",
        "outputId": "68865bf3-a3f8-4de6-b975-0d4792789982"
      },
      "source": [
        "#Adjusted r2\n",
        "1 - (1-model.score(x, y))*(len(y)-1)/(len(y)-x.shape[1]-1)"
      ],
      "execution_count": 80,
      "outputs": [
        {
          "output_type": "execute_result",
          "data": {
            "text/plain": [
              "0.4823586451783124"
            ]
          },
          "metadata": {},
          "execution_count": 80
        }
      ]
    },
    {
      "cell_type": "code",
      "metadata": {
        "id": "_ctFhU40scUY"
      },
      "source": [
        "bos.to_csv ('boston.csv', index = False, header=True)"
      ],
      "execution_count": 81,
      "outputs": []
    },
    {
      "cell_type": "code",
      "metadata": {
        "id": "pxXlUxrItjyM"
      },
      "source": [
        ""
      ],
      "execution_count": null,
      "outputs": []
    }
  ]
}